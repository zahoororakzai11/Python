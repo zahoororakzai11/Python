{
  "nbformat": 4,
  "nbformat_minor": 0,
  "metadata": {
    "colab": {
      "provenance": [],
      "authorship_tag": "ABX9TyN2HlVM3xCt1rbQ/Ot3Fnny",
      "include_colab_link": true
    },
    "kernelspec": {
      "name": "python3",
      "display_name": "Python 3"
    },
    "language_info": {
      "name": "python"
    }
  },
  "cells": [
    {
      "cell_type": "markdown",
      "metadata": {
        "id": "view-in-github",
        "colab_type": "text"
      },
      "source": [
        "<a href=\"https://colab.research.google.com/github/zahoororakzai11/Python/blob/main/Python_quesiton.ipynb\" target=\"_parent\"><img src=\"https://colab.research.google.com/assets/colab-badge.svg\" alt=\"Open In Colab\"/></a>"
      ]
    },
    {
      "cell_type": "code",
      "execution_count": null,
      "metadata": {
        "colab": {
          "base_uri": "https://localhost:8080/"
        },
        "id": "8j6_y4itGdQk",
        "outputId": "f0b30219-3b0d-4193-8215-4e590c7f3722"
      },
      "outputs": [
        {
          "output_type": "execute_result",
          "data": {
            "text/plain": [
              "8"
            ]
          },
          "metadata": {},
          "execution_count": 2
        }
      ],
      "source": [
        "# Simple Fibonacci Series using recursion\n",
        "\n",
        "def factorial(n):\n",
        "  if n == 0:\n",
        "    return 1\n",
        "  else:\n",
        "    return n * factorial(n-2)\n",
        "factorial(4)"
      ]
    },
    {
      "cell_type": "code",
      "source": [
        "# Use two Python Function to Check Result\n",
        "\n",
        "def factorial(n):\n",
        "  print(\"factorial has been called = \" + str(n))\n",
        "  if n == 1:\n",
        "    return 1\n",
        "  else:\n",
        "    res = n * factorial(n-1)\n",
        "    print(\"intermediate result for \", n, \" * factorial(\" ,n-1, \"): \",res)\n",
        "    return res\n",
        "factorial(4)"
      ],
      "metadata": {
        "colab": {
          "base_uri": "https://localhost:8080/"
        },
        "id": "-XEq-xISGxT4",
        "outputId": "534286d6-c17e-4e88-cdc6-e399f8d05862"
      },
      "execution_count": null,
      "outputs": [
        {
          "output_type": "stream",
          "name": "stdout",
          "text": [
            "factorial has been called = 4\n",
            "factorial has been called = 3\n",
            "factorial has been called = 2\n",
            "factorial has been called = 1\n",
            "intermediate result for  2  * factorial( 1 ):  2\n",
            "intermediate result for  3  * factorial( 2 ):  6\n",
            "intermediate result for  4  * factorial( 3 ):  24\n"
          ]
        },
        {
          "output_type": "execute_result",
          "data": {
            "text/plain": [
              "24"
            ]
          },
          "metadata": {},
          "execution_count": 5
        }
      ]
    },
    {
      "cell_type": "code",
      "source": [
        "def iteractive_factorail(n):\n",
        "  result = 1\n",
        "  for i in range(2,n+1):\n",
        "    result *= i\n",
        "  return result\n",
        "for i in range(5):\n",
        "  print(i,iteractive_factorail(i))"
      ],
      "metadata": {
        "colab": {
          "base_uri": "https://localhost:8080/"
        },
        "id": "SToQ0Wt8Htwo",
        "outputId": "3012a73c-c578-46e4-ba22-9e3b57bb7b47"
      },
      "execution_count": null,
      "outputs": [
        {
          "output_type": "stream",
          "name": "stdout",
          "text": [
            "0 1\n",
            "1 1\n",
            "2 2\n",
            "3 6\n",
            "4 24\n"
          ]
        }
      ]
    },
    {
      "cell_type": "code",
      "source": [
        "def fibonacci(n, prev_values=None):\n",
        "    if prev_values is None:\n",
        "        prev_values = {}  # Initialize a dictionary to store previous values\n",
        "\n",
        "    # Base cases\n",
        "    if n == 0:\n",
        "        return 0\n",
        "    elif n == 1:\n",
        "        return 1\n",
        "\n",
        "    # Check if the value for n has already been computed\n",
        "    if n in prev_values:\n",
        "        return prev_values[n]\n",
        "\n",
        "    # Calculate the Fibonacci value recursively and store it in prev_values\n",
        "    result = fibonacci(n - 1, prev_values) + fibonacci(n - 2, prev_values)\n",
        "    prev_values[n] = result\n",
        "\n",
        "    return result\n",
        "\n",
        "# Example usage:\n",
        "n = 10\n",
        "print(f\"Fibonacci({n}) = {fibonacci(n)}\")"
      ],
      "metadata": {
        "colab": {
          "base_uri": "https://localhost:8080/"
        },
        "id": "z2vzCSY-IP5p",
        "outputId": "c80fbc16-6ad0-4b2a-9ee0-a917ee57b35d"
      },
      "execution_count": null,
      "outputs": [
        {
          "output_type": "stream",
          "name": "stdout",
          "text": [
            "Fibonacci(10) = 55\n"
          ]
        }
      ]
    },
    {
      "cell_type": "code",
      "source": [
        "name  = 'zahoor'\n",
        "print( str(name)+\" Welcome to JMM Technology \" )\n"
      ],
      "metadata": {
        "colab": {
          "base_uri": "https://localhost:8080/"
        },
        "id": "Zqj5CYIJKp5W",
        "outputId": "70f52434-4bab-4b17-fb6a-fb5a6054e183"
      },
      "execution_count": null,
      "outputs": [
        {
          "output_type": "stream",
          "name": "stdout",
          "text": [
            "zahoor Welcome to JMM Technology \n"
          ]
        }
      ]
    },
    {
      "cell_type": "code",
      "source": [
        "float(True) # will give you 1.0\n",
        "float(False) # will give you 0.0"
      ],
      "metadata": {
        "colab": {
          "base_uri": "https://localhost:8080/"
        },
        "id": "PnpS0aZiNKo-",
        "outputId": "7878ac3e-8c63-42d9-83e3-b3fbfdcd4ad7"
      },
      "execution_count": null,
      "outputs": [
        {
          "output_type": "execute_result",
          "data": {
            "text/plain": [
              "0.0"
            ]
          },
          "metadata": {},
          "execution_count": 38
        }
      ]
    },
    {
      "cell_type": "code",
      "source": [
        "# Exponential Form number\n",
        "float(\"2.24e-3\")"
      ],
      "metadata": {
        "colab": {
          "base_uri": "https://localhost:8080/"
        },
        "id": "fIHoJbDgNhgT",
        "outputId": "a17e1061-2148-4fd7-f320-60b680fe09e2"
      },
      "execution_count": null,
      "outputs": [
        {
          "output_type": "execute_result",
          "data": {
            "text/plain": [
              "0.00224"
            ]
          },
          "metadata": {},
          "execution_count": 39
        }
      ]
    },
    {
      "cell_type": "code",
      "source": [
        "#separate\n",
        "a = 8\n",
        "print(\"a = \",a,sep='$$$')"
      ],
      "metadata": {
        "colab": {
          "base_uri": "https://localhost:8080/"
        },
        "id": "Y9RCZSM0c1V-",
        "outputId": "28f18465-d4c3-47ff-fcb6-5fdc2fe0cb06"
      },
      "execution_count": null,
      "outputs": [
        {
          "output_type": "stream",
          "name": "stdout",
          "text": [
            "a = $$$8\n"
          ]
        }
      ]
    },
    {
      "cell_type": "code",
      "source": [
        "age = int(input(\"Please Enter your age\"))\n",
        "print(age)\n",
        "type(age)"
      ],
      "metadata": {
        "colab": {
          "base_uri": "https://localhost:8080/"
        },
        "id": "zaeV06wJhTHy",
        "outputId": "ec10cb75-6b42-4ce5-dc82-2619354e43e3"
      },
      "execution_count": null,
      "outputs": [
        {
          "output_type": "stream",
          "name": "stdout",
          "text": [
            "Please Enter your age25\n",
            "25\n"
          ]
        },
        {
          "output_type": "execute_result",
          "data": {
            "text/plain": [
              "int"
            ]
          },
          "metadata": {},
          "execution_count": 41
        }
      ]
    },
    {
      "cell_type": "code",
      "source": [
        "x = 5\n",
        "print(\"x =\", x)\n",
        "\n",
        "# += operator\n",
        "x += 5\n",
        "print(x)\n",
        "\n",
        "x /= 4\n",
        "print(x)"
      ],
      "metadata": {
        "colab": {
          "base_uri": "https://localhost:8080/"
        },
        "id": "zhNzs8L5hgjf",
        "outputId": "538c7b7d-3346-45e1-c97b-7966d03bd5c6"
      },
      "execution_count": null,
      "outputs": [
        {
          "output_type": "stream",
          "name": "stdout",
          "text": [
            "x = 5\n",
            "10\n",
            "2.5\n"
          ]
        }
      ]
    },
    {
      "cell_type": "code",
      "source": [
        "# Define a list\n",
        "course = ['data science', 'machine learning', 'python', 'html', 'big data' ]\n",
        "\n",
        "# Print first three elements from the list\n",
        "course[2:3]"
      ],
      "metadata": {
        "colab": {
          "base_uri": "https://localhost:8080/"
        },
        "id": "JRlNL3uNiwu-",
        "outputId": "a83e05c6-4b24-4103-f6c1-b584ebf8cb07"
      },
      "execution_count": null,
      "outputs": [
        {
          "output_type": "execute_result",
          "data": {
            "text/plain": [
              "['python']"
            ]
          },
          "metadata": {},
          "execution_count": 57
        }
      ]
    },
    {
      "cell_type": "code",
      "source": [
        "# Extend Method to concatenates lists\n",
        "# Define a first list\n",
        "course1 = ['data science', 'machine learning', 'python', 'html', 'big data']\n",
        "\n",
        "# Define a second list\n",
        "course2 = ['artificial intelligence']\n",
        "\n",
        "course1.extend(course2)\n",
        "course1"
      ],
      "metadata": {
        "colab": {
          "base_uri": "https://localhost:8080/"
        },
        "id": "bbkcIv_hjrHH",
        "outputId": "e8a11ef4-19a3-49ee-d340-7d8f8b61320e"
      },
      "execution_count": null,
      "outputs": [
        {
          "output_type": "execute_result",
          "data": {
            "text/plain": [
              "['data science',\n",
              " 'machine learning',\n",
              " 'python',\n",
              " 'html',\n",
              " 'big data',\n",
              " 'artificial intelligence']"
            ]
          },
          "metadata": {},
          "execution_count": 59
        }
      ]
    },
    {
      "cell_type": "code",
      "source": [
        "my_tuple = (123, ['s', 'a', 'v'], \"World\")\n",
        "print(my_tuple)\n",
        "\n",
        "# Changing the element of the list\n",
        "# This is valid because list is mutable\n",
        "my_tuple[1][2] = 99\n",
        "print(my_tuple[1])"
      ],
      "metadata": {
        "colab": {
          "base_uri": "https://localhost:8080/"
        },
        "id": "qO47mfOrk8NO",
        "outputId": "f9738dd1-8abd-4f69-9875-7e414ed502bf"
      },
      "execution_count": null,
      "outputs": [
        {
          "output_type": "stream",
          "name": "stdout",
          "text": [
            "(123, ['s', 'a', 'v'], 'World')\n",
            "['s', 'a', 99]\n"
          ]
        }
      ]
    },
    {
      "cell_type": "code",
      "source": [
        "def sum():\n",
        "  total = 4\n",
        "  a = int(input(\"Enter NUmber to add: \"))\n",
        "  total += a\n",
        "  print(total)\n",
        "sum()"
      ],
      "metadata": {
        "colab": {
          "base_uri": "https://localhost:8080/"
        },
        "id": "pfnLR30Ilx71",
        "outputId": "e6590f19-086a-4325-c7a4-a81ecbd0cdd9"
      },
      "execution_count": null,
      "outputs": [
        {
          "output_type": "stream",
          "name": "stdout",
          "text": [
            "Enter NUmber to add: 4\n",
            "8\n"
          ]
        }
      ]
    },
    {
      "cell_type": "code",
      "source": [
        "def insert_and_sum():\n",
        "    numbers = []  # Initialize an empty list to store the numbers\n",
        "\n",
        "    while True:\n",
        "        try:\n",
        "            value = input(\"Enter a number (or 'done' to finish): \")\n",
        "\n",
        "            if value.lower() == 'done':\n",
        "                break  # Exit the loop when the user enters 'done'\n",
        "\n",
        "            number = float(value)  # Convert the input to a float (you can use int if you want integers)\n",
        "            numbers.append(number)  # Add the number to the list\n",
        "\n",
        "        except ValueError:\n",
        "            print(\"Invalid input. Please enter a valid number or 'done'.\")\n",
        "\n",
        "    if numbers:\n",
        "        total = sum(numbers)\n",
        "        print(\"List of numbers:\", numbers)\n",
        "        print(\"Sum of numbers:\", total)\n",
        "    else:\n",
        "        print(\"No numbers entered.\")\n",
        "\n",
        "# Call the function to insert values and calculate their sum\n",
        "insert_and_sum()\n",
        "11"
      ],
      "metadata": {
        "colab": {
          "base_uri": "https://localhost:8080/",
          "height": 668
        },
        "id": "-emUumD7nX4M",
        "outputId": "e44d82ed-e3d2-4787-9db7-517d301ac3af"
      },
      "execution_count": null,
      "outputs": [
        {
          "output_type": "stream",
          "name": "stdout",
          "text": [
            "Enter a number (or 'done' to finish): 1\n",
            "Enter a number (or 'done' to finish): 2\n",
            "Enter a number (or 'done' to finish): 3\n",
            "Enter a number (or 'done' to finish): 4\n",
            "Enter a number (or 'done' to finish): 5\n",
            "Enter a number (or 'done' to finish): 'done'\n",
            "Invalid input. Please enter a valid number or 'done'.\n",
            "Enter a number (or 'done' to finish): \n",
            "Invalid input. Please enter a valid number or 'done'.\n",
            "Enter a number (or 'done' to finish): \n",
            "Invalid input. Please enter a valid number or 'done'.\n"
          ]
        },
        {
          "output_type": "error",
          "ename": "KeyboardInterrupt",
          "evalue": "ignored",
          "traceback": [
            "\u001b[0;31m---------------------------------------------------------------------------\u001b[0m",
            "\u001b[0;31mKeyboardInterrupt\u001b[0m                         Traceback (most recent call last)",
            "\u001b[0;32m<ipython-input-71-88169638c68d>\u001b[0m in \u001b[0;36m<cell line: 25>\u001b[0;34m()\u001b[0m\n\u001b[1;32m     23\u001b[0m \u001b[0;34m\u001b[0m\u001b[0m\n\u001b[1;32m     24\u001b[0m \u001b[0;31m# Call the function to insert values and calculate their sum\u001b[0m\u001b[0;34m\u001b[0m\u001b[0;34m\u001b[0m\u001b[0m\n\u001b[0;32m---> 25\u001b[0;31m \u001b[0minsert_and_sum\u001b[0m\u001b[0;34m(\u001b[0m\u001b[0;34m)\u001b[0m\u001b[0;34m\u001b[0m\u001b[0;34m\u001b[0m\u001b[0m\n\u001b[0m\u001b[1;32m     26\u001b[0m \u001b[0;36m11\u001b[0m\u001b[0;34m\u001b[0m\u001b[0;34m\u001b[0m\u001b[0m\n",
            "\u001b[0;32m<ipython-input-71-88169638c68d>\u001b[0m in \u001b[0;36minsert_and_sum\u001b[0;34m()\u001b[0m\n\u001b[1;32m      4\u001b[0m     \u001b[0;32mwhile\u001b[0m \u001b[0;32mTrue\u001b[0m\u001b[0;34m:\u001b[0m\u001b[0;34m\u001b[0m\u001b[0;34m\u001b[0m\u001b[0m\n\u001b[1;32m      5\u001b[0m         \u001b[0;32mtry\u001b[0m\u001b[0;34m:\u001b[0m\u001b[0;34m\u001b[0m\u001b[0;34m\u001b[0m\u001b[0m\n\u001b[0;32m----> 6\u001b[0;31m             \u001b[0mvalue\u001b[0m \u001b[0;34m=\u001b[0m \u001b[0minput\u001b[0m\u001b[0;34m(\u001b[0m\u001b[0;34m\"Enter a number (or 'done' to finish): \"\u001b[0m\u001b[0;34m)\u001b[0m\u001b[0;34m\u001b[0m\u001b[0;34m\u001b[0m\u001b[0m\n\u001b[0m\u001b[1;32m      7\u001b[0m \u001b[0;34m\u001b[0m\u001b[0m\n\u001b[1;32m      8\u001b[0m             \u001b[0;32mif\u001b[0m \u001b[0mvalue\u001b[0m\u001b[0;34m.\u001b[0m\u001b[0mlower\u001b[0m\u001b[0;34m(\u001b[0m\u001b[0;34m)\u001b[0m \u001b[0;34m==\u001b[0m \u001b[0;34m'done'\u001b[0m\u001b[0;34m:\u001b[0m\u001b[0;34m\u001b[0m\u001b[0;34m\u001b[0m\u001b[0m\n",
            "\u001b[0;32m/usr/local/lib/python3.10/dist-packages/ipykernel/kernelbase.py\u001b[0m in \u001b[0;36mraw_input\u001b[0;34m(self, prompt)\u001b[0m\n\u001b[1;32m    849\u001b[0m                 \u001b[0;34m\"raw_input was called, but this frontend does not support input requests.\"\u001b[0m\u001b[0;34m\u001b[0m\u001b[0;34m\u001b[0m\u001b[0m\n\u001b[1;32m    850\u001b[0m             )\n\u001b[0;32m--> 851\u001b[0;31m         return self._input_request(str(prompt),\n\u001b[0m\u001b[1;32m    852\u001b[0m             \u001b[0mself\u001b[0m\u001b[0;34m.\u001b[0m\u001b[0m_parent_ident\u001b[0m\u001b[0;34m,\u001b[0m\u001b[0;34m\u001b[0m\u001b[0;34m\u001b[0m\u001b[0m\n\u001b[1;32m    853\u001b[0m             \u001b[0mself\u001b[0m\u001b[0;34m.\u001b[0m\u001b[0m_parent_header\u001b[0m\u001b[0;34m,\u001b[0m\u001b[0;34m\u001b[0m\u001b[0;34m\u001b[0m\u001b[0m\n",
            "\u001b[0;32m/usr/local/lib/python3.10/dist-packages/ipykernel/kernelbase.py\u001b[0m in \u001b[0;36m_input_request\u001b[0;34m(self, prompt, ident, parent, password)\u001b[0m\n\u001b[1;32m    893\u001b[0m             \u001b[0;32mexcept\u001b[0m \u001b[0mKeyboardInterrupt\u001b[0m\u001b[0;34m:\u001b[0m\u001b[0;34m\u001b[0m\u001b[0;34m\u001b[0m\u001b[0m\n\u001b[1;32m    894\u001b[0m                 \u001b[0;31m# re-raise KeyboardInterrupt, to truncate traceback\u001b[0m\u001b[0;34m\u001b[0m\u001b[0;34m\u001b[0m\u001b[0m\n\u001b[0;32m--> 895\u001b[0;31m                 \u001b[0;32mraise\u001b[0m \u001b[0mKeyboardInterrupt\u001b[0m\u001b[0;34m(\u001b[0m\u001b[0;34m\"Interrupted by user\"\u001b[0m\u001b[0;34m)\u001b[0m \u001b[0;32mfrom\u001b[0m \u001b[0;32mNone\u001b[0m\u001b[0;34m\u001b[0m\u001b[0;34m\u001b[0m\u001b[0m\n\u001b[0m\u001b[1;32m    896\u001b[0m             \u001b[0;32mexcept\u001b[0m \u001b[0mException\u001b[0m \u001b[0;32mas\u001b[0m \u001b[0me\u001b[0m\u001b[0;34m:\u001b[0m\u001b[0;34m\u001b[0m\u001b[0;34m\u001b[0m\u001b[0m\n\u001b[1;32m    897\u001b[0m                 \u001b[0mself\u001b[0m\u001b[0;34m.\u001b[0m\u001b[0mlog\u001b[0m\u001b[0;34m.\u001b[0m\u001b[0mwarning\u001b[0m\u001b[0;34m(\u001b[0m\u001b[0;34m\"Invalid Message:\"\u001b[0m\u001b[0;34m,\u001b[0m \u001b[0mexc_info\u001b[0m\u001b[0;34m=\u001b[0m\u001b[0;32mTrue\u001b[0m\u001b[0;34m)\u001b[0m\u001b[0;34m\u001b[0m\u001b[0;34m\u001b[0m\u001b[0m\n",
            "\u001b[0;31mKeyboardInterrupt\u001b[0m: Interrupted by user"
          ]
        }
      ]
    },
    {
      "cell_type": "code",
      "source": [
        "#method 1\n",
        "''' element = 2\n",
        "repeated_list = [element] * 48\n",
        "print(repeated_list) '''\n",
        "\n",
        "#method 2\n",
        "elements = 2\n",
        "repeated_list = [elements for _ in range(48)]\n",
        "repeated_list"
      ],
      "metadata": {
        "colab": {
          "base_uri": "https://localhost:8080/"
        },
        "id": "cxmiNWNxomKK",
        "outputId": "4f73504b-7f1f-4714-9ef6-818613b428da"
      },
      "execution_count": null,
      "outputs": [
        {
          "output_type": "execute_result",
          "data": {
            "text/plain": [
              "[2,\n",
              " 2,\n",
              " 2,\n",
              " 2,\n",
              " 2,\n",
              " 2,\n",
              " 2,\n",
              " 2,\n",
              " 2,\n",
              " 2,\n",
              " 2,\n",
              " 2,\n",
              " 2,\n",
              " 2,\n",
              " 2,\n",
              " 2,\n",
              " 2,\n",
              " 2,\n",
              " 2,\n",
              " 2,\n",
              " 2,\n",
              " 2,\n",
              " 2,\n",
              " 2,\n",
              " 2,\n",
              " 2,\n",
              " 2,\n",
              " 2,\n",
              " 2,\n",
              " 2,\n",
              " 2,\n",
              " 2,\n",
              " 2,\n",
              " 2,\n",
              " 2,\n",
              " 2,\n",
              " 2,\n",
              " 2,\n",
              " 2,\n",
              " 2,\n",
              " 2,\n",
              " 2,\n",
              " 2,\n",
              " 2,\n",
              " 2,\n",
              " 2,\n",
              " 2,\n",
              " 2]"
            ]
          },
          "metadata": {},
          "execution_count": 75
        }
      ]
    },
    {
      "cell_type": "code",
      "source": [
        "list = [\"apple\",\"orange\",\"grapes\",\"watermelon\"]\n",
        "print(list[1:2])"
      ],
      "metadata": {
        "colab": {
          "base_uri": "https://localhost:8080/"
        },
        "id": "T4bF6Ss3w5Hx",
        "outputId": "d55c9984-5ea4-42a6-d8ce-45bab65ac2f4"
      },
      "execution_count": null,
      "outputs": [
        {
          "output_type": "stream",
          "name": "stdout",
          "text": [
            "['orange']\n"
          ]
        }
      ]
    },
    {
      "cell_type": "code",
      "source": [
        "# 3\n",
        "list = [\"apple\",\"orange\",\"grapes\",\"watermelon\"]\n",
        "list[1] = \"strawberries\"\n",
        "list"
      ],
      "metadata": {
        "colab": {
          "base_uri": "https://localhost:8080/"
        },
        "id": "DxUtGlQuyHKk",
        "outputId": "13353d54-8273-4c5f-aa94-466b246fd822"
      },
      "execution_count": null,
      "outputs": [
        {
          "output_type": "execute_result",
          "data": {
            "text/plain": [
              "['apple', 'strawberries', 'grapes', 'watermelon']"
            ]
          },
          "metadata": {},
          "execution_count": 79
        }
      ]
    },
    {
      "cell_type": "code",
      "source": [
        "iterate_list = [1,2,3,4,5]\n",
        "for _ in iterate_list:\n",
        "  print(_)"
      ],
      "metadata": {
        "colab": {
          "base_uri": "https://localhost:8080/"
        },
        "id": "EWPjnMBdyhUa",
        "outputId": "53ca32ef-d51c-425d-c384-4a83992d6d85"
      },
      "execution_count": null,
      "outputs": [
        {
          "output_type": "stream",
          "name": "stdout",
          "text": [
            "1\n",
            "2\n",
            "3\n",
            "4\n",
            "5\n"
          ]
        }
      ]
    },
    {
      "cell_type": "code",
      "source": [
        "# 5  Find Square of the list\n",
        "def square():\n",
        "  list = [1, 12, 24, 36, 11, 20,50]\n",
        "  for num in list:\n",
        "    square = num * num\n",
        "    print(square)\n",
        "square()"
      ],
      "metadata": {
        "colab": {
          "base_uri": "https://localhost:8080/"
        },
        "id": "op5hvAjmyru5",
        "outputId": "a77c61c0-1d9d-4841-cd4e-8156ad702268"
      },
      "execution_count": null,
      "outputs": [
        {
          "output_type": "stream",
          "name": "stdout",
          "text": [
            "1\n",
            "144\n",
            "576\n",
            "1296\n",
            "121\n",
            "400\n",
            "2500\n"
          ]
        }
      ]
    },
    {
      "cell_type": "code",
      "source": [
        "List=['white','red', 'blue', 'green','blue','yellow', 'black']\n",
        "List.remove('yellow')\n",
        "print(\"Pop List\",List)"
      ],
      "metadata": {
        "colab": {
          "base_uri": "https://localhost:8080/"
        },
        "id": "yMwKUfx1y984",
        "outputId": "2c06c86c-a3ca-4f39-e030-e6e5b8c3bf7f"
      },
      "execution_count": null,
      "outputs": [
        {
          "output_type": "stream",
          "name": "stdout",
          "text": [
            "Pop List ['white', 'red', 'blue', 'green', 'blue', 'black']\n"
          ]
        }
      ]
    },
    {
      "cell_type": "code",
      "source": [
        "list=[\"a\",\"b\",\"c\",\"d\",\"e\"]\n",
        "print(len(list))"
      ],
      "metadata": {
        "colab": {
          "base_uri": "https://localhost:8080/"
        },
        "id": "pl1tVccK0SQ8",
        "outputId": "44a40df8-6a5a-427f-a972-83687f96ffbd"
      },
      "execution_count": null,
      "outputs": [
        {
          "output_type": "stream",
          "name": "stdout",
          "text": [
            "5\n"
          ]
        }
      ]
    },
    {
      "cell_type": "code",
      "source": [
        "dictionary = {\n",
        "    'brand':'Audi',\n",
        "    'model': 'Q2',\n",
        "    'Year' : 1980\n",
        "}\n",
        "# Change Year to 2019\n",
        "dictionary['Year'] = 2019\n",
        "print(\"Brand\", dictionary[\"brand\"])\n",
        "print(\"Model\",dictionary[\"model\"])\n",
        "print(\"Year\",dictionary['Year'])\n"
      ],
      "metadata": {
        "colab": {
          "base_uri": "https://localhost:8080/"
        },
        "id": "2XbVMSJz1Fkq",
        "outputId": "87acc7af-81b2-455d-ed47-ec98e5c3e2ec"
      },
      "execution_count": null,
      "outputs": [
        {
          "output_type": "stream",
          "name": "stdout",
          "text": [
            "Brand Audi\n",
            "Model Q2\n",
            "Year 2019\n"
          ]
        }
      ]
    },
    {
      "cell_type": "code",
      "source": [
        "set_value = {\"hello\",55,(6,7,8)}\n",
        "set_value"
      ],
      "metadata": {
        "colab": {
          "base_uri": "https://localhost:8080/"
        },
        "id": "SqXKs7jp1g6H",
        "outputId": "700e7a25-98e3-4926-81a1-76e958eded66"
      },
      "execution_count": null,
      "outputs": [
        {
          "output_type": "execute_result",
          "data": {
            "text/plain": [
              "{(6, 7, 8), 55, 'hello'}"
            ]
          },
          "metadata": {},
          "execution_count": 108
        }
      ]
    },
    {
      "cell_type": "code",
      "source": [
        "a = 55\n",
        "if a == 10:\n",
        "  print(\"Hello\")\n",
        "else:\n",
        "  print(\"Good BYe\")"
      ],
      "metadata": {
        "colab": {
          "base_uri": "https://localhost:8080/"
        },
        "id": "2TYp9IOm2wDU",
        "outputId": "d979819d-bc31-4597-c0f6-7733e465ed44"
      },
      "execution_count": null,
      "outputs": [
        {
          "output_type": "stream",
          "name": "stdout",
          "text": [
            "Good BYe\n"
          ]
        }
      ]
    },
    {
      "cell_type": "code",
      "source": [
        "a = 2021\n",
        "if a % 2 == 0:\n",
        "  print(\"Even\")\n",
        "else:\n",
        "  print(\"Odd\")"
      ],
      "metadata": {
        "colab": {
          "base_uri": "https://localhost:8080/"
        },
        "id": "dvFR8Pxx6Ew7",
        "outputId": "2f7530d6-43a2-4871-91e9-bd5dfa8db400"
      },
      "execution_count": null,
      "outputs": [
        {
          "output_type": "stream",
          "name": "stdout",
          "text": [
            "Odd\n"
          ]
        }
      ]
    },
    {
      "cell_type": "code",
      "source": [
        "length = 5\n",
        "breadth = 10\n",
        "area = length * breadth\n",
        "print(area)\n",
        "\n",
        "perimeter = 2 * (length + breadth)\n",
        "print(perimeter)\n",
        "\n",
        "if area > perimeter:\n",
        "  print(\"Area Greater than Perimeter\")\n",
        "else:\n",
        "  print(\"Perimeter is greater than Area\")"
      ],
      "metadata": {
        "colab": {
          "base_uri": "https://localhost:8080/"
        },
        "id": "KD2K4dkj6RT4",
        "outputId": "a67157cc-3621-4f6b-a114-d57513e5ea93"
      },
      "execution_count": null,
      "outputs": [
        {
          "output_type": "stream",
          "name": "stdout",
          "text": [
            "50\n",
            "30\n",
            "Area Greater than Perimeter\n"
          ]
        }
      ]
    },
    {
      "cell_type": "code",
      "source": [
        "import builtins\n",
        "marks = [50,60,70,80,90]\n",
        "average = builtins.sum(marks) / len(marks)\n",
        "if average > 90:\n",
        "  grade = 'A'\n",
        "elif average > 80:\n",
        "  grade = 'B'\n",
        "elif average > 70:\n",
        "  grade = 'C'\n",
        "elif average > 60:\n",
        "  grade = 'D'\n",
        "elif average > 50:\n",
        "  grade = 'C'\n",
        "else:\n",
        "  grade = 'Fail'\n",
        "\n",
        "print(\"Average:\",average)\n",
        "print(\"Grade\",grade)\n",
        "\n"
      ],
      "metadata": {
        "colab": {
          "base_uri": "https://localhost:8080/"
        },
        "id": "D-zftjuf7qNf",
        "outputId": "b61b2b8f-a26e-4a46-ee4f-1e0b8f57f443"
      },
      "execution_count": null,
      "outputs": [
        {
          "output_type": "stream",
          "name": "stdout",
          "text": [
            "Average: 70.0\n",
            "Grade D\n"
          ]
        }
      ]
    },
    {
      "cell_type": "code",
      "source": [
        "side1 = 6\n",
        "side2 = 8\n",
        "side3 = 13\n",
        "\n",
        "if side1 == side2 == side3:\n",
        "  triangle_type= \"Equilateral Traingle\"\n",
        "elif side1 == side2 or side2 == side3 or side1 == side3:\n",
        "  triangle_type =\"Isosceles\"\n",
        "else:\n",
        "  triangle_type = \"Scelene\"\n",
        "\n",
        "print(\"The Triangle is: \",triangle_type)\n"
      ],
      "metadata": {
        "colab": {
          "base_uri": "https://localhost:8080/"
        },
        "id": "qNGvu5_p85Xn",
        "outputId": "632c7790-238f-4218-f7de-30f1ba253e8a"
      },
      "execution_count": null,
      "outputs": [
        {
          "output_type": "stream",
          "name": "stdout",
          "text": [
            "The Triangle is:  Scelene\n"
          ]
        }
      ]
    },
    {
      "cell_type": "code",
      "source": [
        "sentence = \"I am a Data Scientist\"\n",
        "if \"Data\" in sentence:\n",
        "  print(True)\n",
        "else:\n",
        "  print(False)\n",
        "\n"
      ],
      "metadata": {
        "colab": {
          "base_uri": "https://localhost:8080/"
        },
        "id": "n9QDWzpQ9NcL",
        "outputId": "eb24b2e3-ac0f-4ea1-f5e0-73b4d1a700cc"
      },
      "execution_count": null,
      "outputs": [
        {
          "output_type": "stream",
          "name": "stdout",
          "text": [
            "True\n"
          ]
        }
      ]
    },
    {
      "cell_type": "code",
      "source": [
        "age = float(input(\"Enter age to Check Work eligible\"))\n",
        "if age < 18:\n",
        "  print(\"Not eligible to Word\")\n",
        "elif age >=18 and age <=60:\n",
        "  print(\"Eligible to Work\")\n",
        "else:\n",
        "  print(\"Group 3 Too Old to Work as per govt\")\n"
      ],
      "metadata": {
        "colab": {
          "base_uri": "https://localhost:8080/"
        },
        "id": "nsD4eLCe_NqY",
        "outputId": "acaf898d-d31e-4738-b2e7-357570cc7d2f"
      },
      "execution_count": null,
      "outputs": [
        {
          "output_type": "stream",
          "name": "stdout",
          "text": [
            "Enter age to Check Work eligible35\n",
            "Eligible to Work\n"
          ]
        }
      ]
    },
    {
      "cell_type": "code",
      "source": [
        "# Ages of three people\n",
        "age1 = 25\n",
        "age2 = 34\n",
        "age3 = 45\n",
        "\n",
        "# Compare the ages to find the oldest person\n",
        "if age1 >= age2 and age1 >= age3:\n",
        "    oldest_person = \"The first person is the oldest.\"\n",
        "elif age2 >= age1 and age2 >= age3:\n",
        "    oldest_person = \"The second person is the oldest.\"\n",
        "else:\n",
        "    oldest_person = \"The third person is the oldest.\"\n",
        "\n",
        "# Print the result\n",
        "print(oldest_person)\n"
      ],
      "metadata": {
        "colab": {
          "base_uri": "https://localhost:8080/"
        },
        "id": "SaLjQH51_67v",
        "outputId": "e45f0351-e789-4f3b-f6a2-bccc67e63a89"
      },
      "execution_count": null,
      "outputs": [
        {
          "output_type": "stream",
          "name": "stdout",
          "text": [
            "The third person is the oldest.\n"
          ]
        }
      ]
    },
    {
      "cell_type": "code",
      "source": [
        "# Function to add,substract, multiply and divide two number\n",
        "\n",
        "class Calculate:\n",
        "  def sum(self,x,y):\n",
        "    result = x + y\n",
        "    print(f\"Addition:{x} + {y} = {result}\")\n",
        "    return result\n",
        "\n",
        "  # multiple\n",
        "  def multi(self,x,y):\n",
        "    result = x * y\n",
        "    print(f\"Multiplication:{x} * {y} = {result}\")\n",
        "    return result\n",
        "\n",
        "  #divide\n",
        "  def divide(self,x,y):\n",
        "    result = x / y\n",
        "    print(f\"Division:{x} / {y} = {result}\")\n",
        "    return result\n",
        "\n",
        "  #substraction\n",
        "  def substract(self,x,y):\n",
        "    result = x / y\n",
        "    print(f\"Substraction:{x} - {y} = {result}\")\n",
        "    return result\n",
        "\n",
        "#Class object\n",
        "calculate = Calculate()\n",
        "#function calling\n",
        "result_add = calculate.sum(5,5)\n",
        "result_div = calculate.multi(5,2)"
      ],
      "metadata": {
        "colab": {
          "base_uri": "https://localhost:8080/"
        },
        "id": "LX8pPNkKBb68",
        "outputId": "094afea5-aeff-4cab-cc49-8c3cffc8cd1b"
      },
      "execution_count": null,
      "outputs": [
        {
          "output_type": "stream",
          "name": "stdout",
          "text": [
            "Addition:5 + 5 = 10\n",
            "Multiplication:5 * 2 = 10\n"
          ]
        }
      ]
    },
    {
      "cell_type": "code",
      "source": [
        "def calculate_squares():\n",
        "    squares = []  # Initialize an empty list to store the squares\n",
        "\n",
        "    for num in range(1, 11):\n",
        "        square = num ** 2\n",
        "        squares.append(square)\n",
        "\n",
        "    return squares\n",
        "\n",
        "# Call the function to calculate and get the squares\n",
        "result = calculate_squares()\n",
        "\n",
        "# Print the squares\n",
        "for i, square in enumerate(result, start=1):\n",
        "    print(f\"Square of {i}: {square}\")\n"
      ],
      "metadata": {
        "colab": {
          "base_uri": "https://localhost:8080/"
        },
        "id": "CgF168ssDTfr",
        "outputId": "ba2786ce-3053-4b3f-fd32-168f1a861e4d"
      },
      "execution_count": null,
      "outputs": [
        {
          "output_type": "stream",
          "name": "stdout",
          "text": [
            "Square of 1: 1\n",
            "Square of 2: 4\n",
            "Square of 3: 9\n",
            "Square of 4: 16\n",
            "Square of 5: 25\n",
            "Square of 6: 36\n",
            "Square of 7: 49\n",
            "Square of 8: 64\n",
            "Square of 9: 81\n",
            "Square of 10: 100\n"
          ]
        }
      ]
    },
    {
      "cell_type": "code",
      "source": [
        "def calculate_squares():\n",
        "  squares = []\n",
        "  for num in range(1,11):\n",
        "    square = num ** 2\n",
        "    squares.append(square)\n",
        "  return result\n",
        "\n",
        "result = calculate_squares()\n",
        "for i , square in enumerate(result,start = 1):\n",
        "  print(f\"Square of {i}: {square}\")"
      ],
      "metadata": {
        "colab": {
          "base_uri": "https://localhost:8080/"
        },
        "id": "CltahxqIHGSv",
        "outputId": "8c83c712-de9f-444a-c4e9-0e533155f63e"
      },
      "execution_count": null,
      "outputs": [
        {
          "output_type": "stream",
          "name": "stdout",
          "text": [
            "Square of 1: 1\n",
            "Square of 2: 4\n",
            "Square of 3: 9\n",
            "Square of 4: 16\n",
            "Square of 5: 25\n",
            "Square of 6: 36\n",
            "Square of 7: 49\n",
            "Square of 8: 64\n",
            "Square of 9: 81\n",
            "Square of 10: 100\n"
          ]
        }
      ]
    },
    {
      "cell_type": "code",
      "source": [
        "def calculate_interest(principle,rate,time):\n",
        "  rate_decimal = rate / 100\n",
        "  simple_interest = (principle * rate_decimal * time) /100\n",
        "  return simple_interest\n",
        "\n",
        "# Given values\n",
        "principal_amount = 1000\n",
        "annual_rate_of_interest = 3\n",
        "time_in_years = 5\n",
        "\n",
        "interest = calculate_interest(principal_amount,annual_rate_of_interest,time_in_years)\n",
        "\n",
        "print(\"Simple Interest\", interest)\n"
      ],
      "metadata": {
        "colab": {
          "base_uri": "https://localhost:8080/"
        },
        "id": "Oexz7vGYJV7H",
        "outputId": "cd9c7d09-9fa4-4dac-9cca-3e5b095ce280"
      },
      "execution_count": null,
      "outputs": [
        {
          "output_type": "stream",
          "name": "stdout",
          "text": [
            "Simple Interest 1.5\n"
          ]
        }
      ]
    },
    {
      "cell_type": "markdown",
      "source": [
        "###  Define a function that takes an input, squares it, adds 5, then returns the answer"
      ],
      "metadata": {
        "id": "Lrg7tfF3mRsE"
      }
    },
    {
      "cell_type": "code",
      "source": [
        "# Function to add value from user input\n",
        "def addition(input_number):\n",
        "  square = input_number ** 2\n",
        "  result = square + 5\n",
        "  return result\n",
        "addition(5)\n"
      ],
      "metadata": {
        "id": "T7NP2vP_OxXg",
        "colab": {
          "base_uri": "https://localhost:8080/"
        },
        "outputId": "ffc410d1-21e3-4ed6-93c0-59b90459b82a"
      },
      "execution_count": 7,
      "outputs": [
        {
          "output_type": "execute_result",
          "data": {
            "text/plain": [
              "30"
            ]
          },
          "metadata": {},
          "execution_count": 7
        }
      ]
    },
    {
      "cell_type": "code",
      "source": [
        "lambda_function = lambda x: x ** 2 + 5\n",
        "result = lambda_function(3)\n",
        "print(result)"
      ],
      "metadata": {
        "colab": {
          "base_uri": "https://localhost:8080/"
        },
        "id": "_mSUk3IUnRpu",
        "outputId": "c781ccf8-f61c-47ef-f811-315bf1aca6c2"
      },
      "execution_count": 8,
      "outputs": [
        {
          "output_type": "stream",
          "name": "stdout",
          "text": [
            "14\n"
          ]
        }
      ]
    },
    {
      "cell_type": "markdown",
      "source": [
        "### Write a function to calculate the power of a number raised to other(a𝑏)"
      ],
      "metadata": {
        "id": "DAUatE9cphrH"
      }
    },
    {
      "cell_type": "code",
      "source": [
        "def power(base,exponent):\n",
        "  result = base ** exponent\n",
        "  return result\n",
        "power(4,2)"
      ],
      "metadata": {
        "colab": {
          "base_uri": "https://localhost:8080/"
        },
        "id": "FVbd6qMapEAx",
        "outputId": "deee3795-1a7c-4dd5-ca59-a65a0006f4d7"
      },
      "execution_count": 11,
      "outputs": [
        {
          "output_type": "execute_result",
          "data": {
            "text/plain": [
              "16"
            ]
          },
          "metadata": {},
          "execution_count": 11
        }
      ]
    },
    {
      "cell_type": "code",
      "source": [
        "def area_of_triangle(base,height):\n",
        "  area = 1/2 * base * height\n",
        "  return area\n",
        "base = 4\n",
        "height = 5\n",
        "\n",
        "area = area_of_triangle(base,height)\n",
        "print(\"Area of the Triangle is:\",area)"
      ],
      "metadata": {
        "colab": {
          "base_uri": "https://localhost:8080/"
        },
        "id": "JcQQ5NGmpRF5",
        "outputId": "780db5b1-2d3f-496b-d1d6-0d3c2c127abd"
      },
      "execution_count": 13,
      "outputs": [
        {
          "output_type": "stream",
          "name": "stdout",
          "text": [
            "Area of the Triangle is: 10.0\n"
          ]
        }
      ]
    },
    {
      "cell_type": "markdown",
      "source": [
        "### Create a function that takes country as the input and returns \"I am from Country \""
      ],
      "metadata": {
        "id": "ARhvOhW0qWEs"
      }
    },
    {
      "cell_type": "code",
      "source": [
        "def take_input(country):\n",
        "  return f\"I am from {country}\"\n",
        "\n",
        "my_country = \"Pakistan\"\n",
        "message = take_input(my_country)\n",
        "print(message)"
      ],
      "metadata": {
        "colab": {
          "base_uri": "https://localhost:8080/"
        },
        "id": "bZ-p1VU7p7vX",
        "outputId": "b8fc119e-ff72-4e1d-c216-264ab7134e2a"
      },
      "execution_count": 18,
      "outputs": [
        {
          "output_type": "stream",
          "name": "stdout",
          "text": [
            "I am from Pakistan\n"
          ]
        }
      ]
    },
    {
      "cell_type": "markdown",
      "source": [
        "### Write a function to convert degree Celsius temperature to Fahrenheit"
      ],
      "metadata": {
        "id": "4NDHCEYUrZvp"
      }
    },
    {
      "cell_type": "code",
      "source": [
        "def celsium_to_fahrenheit(celsius):\n",
        "  fahrenheit = celsius * 9/5 + 32\n",
        "  return fahrenheit\n",
        "\n",
        "celsius = 25.0\n",
        "temperature = celsium_to_fahrenheit(celsius)\n",
        "print(temperature)"
      ],
      "metadata": {
        "colab": {
          "base_uri": "https://localhost:8080/"
        },
        "id": "Ihfl3c5eqoaQ",
        "outputId": "1e76d36c-23a5-4fc3-f004-d326c55c9f2c"
      },
      "execution_count": 19,
      "outputs": [
        {
          "output_type": "stream",
          "name": "stdout",
          "text": [
            "77.0\n"
          ]
        }
      ]
    },
    {
      "cell_type": "code",
      "source": [
        "# Count Vowels\n",
        "\n",
        "def count_vowels(string):\n",
        "  vowels = \"AEIOUaeiou\"\n",
        "  count = 0\n",
        "  for char in string:\n",
        "    if char in vowels:\n",
        "      count += 1\n",
        "  return count\n",
        "\n",
        "input_string = \"Data Science\"\n",
        "vowel_count = count_vowels(input_string)\n",
        "print(vowel_count)\n"
      ],
      "metadata": {
        "colab": {
          "base_uri": "https://localhost:8080/"
        },
        "id": "0ImT3hNZr3M_",
        "outputId": "3dc6ce16-0469-41ae-da37-f2be1f54f5b0"
      },
      "execution_count": 22,
      "outputs": [
        {
          "output_type": "stream",
          "name": "stdout",
          "text": [
            "5\n"
          ]
        }
      ]
    },
    {
      "cell_type": "code",
      "source": [
        "import getpass\n",
        "\n",
        "def get_password():\n",
        "    try:\n",
        "        password = getpass.getpass(prompt=\"Enter your password: \")\n",
        "        return password\n",
        "    except KeyboardInterrupt:\n",
        "        return None  # Return None if the user presses Ctrl+C\n",
        "\n",
        "if __name__ == \"__main__\":\n",
        "    password = get_password()\n",
        "    if password is not None:\n",
        "        print(\"Password entered:\", password)\n",
        "    else:\n",
        "        print(\"\\nPassword entry cancelled.\")\n"
      ],
      "metadata": {
        "colab": {
          "base_uri": "https://localhost:8080/"
        },
        "id": "vjNLSKsJr69G",
        "outputId": "b4e2337a-2302-4d29-8d2c-513138930adc"
      },
      "execution_count": 23,
      "outputs": [
        {
          "output_type": "stream",
          "name": "stdout",
          "text": [
            "Enter your password: ··········\n",
            "Password entered: zahoor\n"
          ]
        }
      ]
    },
    {
      "cell_type": "code",
      "source": [],
      "metadata": {
        "id": "zS8GdS51zDmG"
      },
      "execution_count": null,
      "outputs": []
    }
  ]
}